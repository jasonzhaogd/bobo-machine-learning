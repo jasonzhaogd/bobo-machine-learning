{
 "cells": [
  {
   "cell_type": "code",
   "execution_count": 1,
   "id": "554b2fab",
   "metadata": {},
   "outputs": [],
   "source": [
    "import numpy as np"
   ]
  },
  {
   "cell_type": "markdown",
   "id": "f66d928f",
   "metadata": {},
   "source": [
    "## 向量的聚合运算"
   ]
  },
  {
   "cell_type": "code",
   "execution_count": 6,
   "id": "45df090a",
   "metadata": {},
   "outputs": [
    {
     "data": {
      "text/plain": [
       "array([0.69463377, 0.8352934 , 0.520246  , 0.65179654, 0.21862213,\n",
       "       0.91604427, 0.92884894, 0.71207987, 0.32516767, 0.72211307,\n",
       "       0.97923853, 0.77201867, 0.67884729, 0.94863088, 0.83790154,\n",
       "       0.34965658, 0.49780364, 0.73331532, 0.12131571, 0.31527606,\n",
       "       0.74356149, 0.51255207, 0.1658109 , 0.93132459, 0.8075073 ,\n",
       "       0.11287419, 0.55779886, 0.71785284, 0.48616905, 0.08798186,\n",
       "       0.90700949, 0.1567882 , 0.91525833, 0.283028  , 0.27834613,\n",
       "       0.3887495 , 0.89594879, 0.53473409, 0.82040994, 0.88522773,\n",
       "       0.59974039, 0.94898655, 0.55127358, 0.84579954, 0.67436445,\n",
       "       0.72067995, 0.22967972, 0.12684405, 0.17397743, 0.40741323,\n",
       "       0.58624288, 0.68147728, 0.27364654, 0.40405458, 0.38270787,\n",
       "       0.77880582, 0.51134777, 0.56556552, 0.33099969, 0.72713007,\n",
       "       0.07564703, 0.13737584, 0.12673951, 0.1292686 , 0.69127674,\n",
       "       0.26991876, 0.54853227, 0.8535308 , 0.74869823, 0.1708001 ,\n",
       "       0.05751569, 0.64305582, 0.33722699, 0.8971003 , 0.63458918,\n",
       "       0.31623947, 0.65496233, 0.92228358, 0.49318799, 0.20759943,\n",
       "       0.45098422, 0.28945828, 0.94063083, 0.64836829, 0.28470018,\n",
       "       0.73576839, 0.74316358, 0.2162902 , 0.3958519 , 0.92943186,\n",
       "       0.06270976, 0.48434925, 0.8695726 , 0.19945838, 0.4321249 ,\n",
       "       0.30561771, 0.79489941, 0.07067959, 0.38951324, 0.34306271])"
      ]
     },
     "execution_count": 6,
     "metadata": {},
     "output_type": "execute_result"
    }
   ],
   "source": [
    "L = np.random.rand(100)\n",
    "L"
   ]
  },
  {
   "cell_type": "code",
   "execution_count": 7,
   "id": "84d72255",
   "metadata": {},
   "outputs": [
    {
     "data": {
      "text/plain": [
       "52.97070403996034"
      ]
     },
     "execution_count": 7,
     "metadata": {},
     "output_type": "execute_result"
    }
   ],
   "source": [
    "# 求和\n",
    "\n",
    "np.sum(L)"
   ]
  },
  {
   "cell_type": "code",
   "execution_count": 8,
   "id": "fc71c673",
   "metadata": {},
   "outputs": [
    {
     "data": {
      "text/plain": [
       "0.05751569286494618"
      ]
     },
     "execution_count": 8,
     "metadata": {},
     "output_type": "execute_result"
    }
   ],
   "source": [
    "np.min(L)"
   ]
  },
  {
   "cell_type": "code",
   "execution_count": 9,
   "id": "4e3f28af",
   "metadata": {},
   "outputs": [
    {
     "data": {
      "text/plain": [
       "0.9792385275467272"
      ]
     },
     "execution_count": 9,
     "metadata": {},
     "output_type": "execute_result"
    }
   ],
   "source": [
    "np.max(L)"
   ]
  },
  {
   "cell_type": "markdown",
   "id": "a1936c68",
   "metadata": {},
   "source": [
    "## 矩阵的聚合运算"
   ]
  },
  {
   "cell_type": "code",
   "execution_count": 10,
   "id": "9afbe1a8",
   "metadata": {},
   "outputs": [
    {
     "data": {
      "text/plain": [
       "array([[ 0,  1,  2,  3],\n",
       "       [ 4,  5,  6,  7],\n",
       "       [ 8,  9, 10, 11],\n",
       "       [12, 13, 14, 15]])"
      ]
     },
     "execution_count": 10,
     "metadata": {},
     "output_type": "execute_result"
    }
   ],
   "source": [
    "X = np.arange(16).reshape(4, -1)\n",
    "X"
   ]
  },
  {
   "cell_type": "code",
   "execution_count": 11,
   "id": "ebbc18fb",
   "metadata": {},
   "outputs": [
    {
     "data": {
      "text/plain": [
       "120"
      ]
     },
     "execution_count": 11,
     "metadata": {},
     "output_type": "execute_result"
    }
   ],
   "source": [
    "np.sum(X)"
   ]
  },
  {
   "cell_type": "code",
   "execution_count": 12,
   "id": "c918d5c8",
   "metadata": {},
   "outputs": [
    {
     "data": {
      "text/plain": [
       "array([24, 28, 32, 36])"
      ]
     },
     "execution_count": 12,
     "metadata": {},
     "output_type": "execute_result"
    }
   ],
   "source": [
    "np.sum(X, axis=0)  # 每列的和，0是第一个维度，即行，sum是沿着行求和，或者理解为最后求得的是一个行向量"
   ]
  },
  {
   "cell_type": "code",
   "execution_count": 13,
   "id": "6d130d04",
   "metadata": {},
   "outputs": [
    {
     "data": {
      "text/plain": [
       "array([ 6, 22, 38, 54])"
      ]
     },
     "execution_count": 13,
     "metadata": {},
     "output_type": "execute_result"
    }
   ],
   "source": [
    "np.sum(X, axis=1)"
   ]
  },
  {
   "cell_type": "code",
   "execution_count": 14,
   "id": "9b07665e",
   "metadata": {},
   "outputs": [
    {
     "data": {
      "text/plain": [
       "0"
      ]
     },
     "execution_count": 14,
     "metadata": {},
     "output_type": "execute_result"
    }
   ],
   "source": [
    "#  求积\n",
    "np.prod(X)"
   ]
  },
  {
   "cell_type": "code",
   "execution_count": 15,
   "id": "cd5b322c",
   "metadata": {},
   "outputs": [
    {
     "data": {
      "text/plain": [
       "20922789888000"
      ]
     },
     "execution_count": 15,
     "metadata": {},
     "output_type": "execute_result"
    }
   ],
   "source": [
    "np.prod(X + 1)"
   ]
  },
  {
   "cell_type": "code",
   "execution_count": 16,
   "id": "a23d2752",
   "metadata": {},
   "outputs": [
    {
     "data": {
      "text/plain": [
       "7.5"
      ]
     },
     "execution_count": 16,
     "metadata": {},
     "output_type": "execute_result"
    }
   ],
   "source": [
    "# 平均值\n",
    "np.mean(X)"
   ]
  },
  {
   "cell_type": "code",
   "execution_count": 19,
   "id": "36e4dce5",
   "metadata": {},
   "outputs": [
    {
     "data": {
      "text/plain": [
       "7.5"
      ]
     },
     "execution_count": 19,
     "metadata": {},
     "output_type": "execute_result"
    }
   ],
   "source": [
    "# 中位数\n",
    "np.median(X)"
   ]
  },
  {
   "cell_type": "code",
   "execution_count": 20,
   "id": "5c55fab6",
   "metadata": {},
   "outputs": [
    {
     "data": {
      "text/plain": [
       "7.5"
      ]
     },
     "execution_count": 20,
     "metadata": {},
     "output_type": "execute_result"
    }
   ],
   "source": [
    "# 百分位\n",
    "np.percentile(X, q=50)"
   ]
  },
  {
   "cell_type": "code",
   "execution_count": 21,
   "id": "1de42cca",
   "metadata": {},
   "outputs": [
    {
     "data": {
      "text/plain": [
       "3.75"
      ]
     },
     "execution_count": 21,
     "metadata": {},
     "output_type": "execute_result"
    }
   ],
   "source": [
    "np.percentile(X, q=25)"
   ]
  },
  {
   "cell_type": "code",
   "execution_count": 22,
   "id": "bac20375",
   "metadata": {},
   "outputs": [
    {
     "data": {
      "text/plain": [
       "21.25"
      ]
     },
     "execution_count": 22,
     "metadata": {},
     "output_type": "execute_result"
    }
   ],
   "source": [
    "# 方差\n",
    "np.var(X)"
   ]
  },
  {
   "cell_type": "code",
   "execution_count": 23,
   "id": "9b11b67f",
   "metadata": {},
   "outputs": [
    {
     "data": {
      "text/plain": [
       "4.6097722286464435"
      ]
     },
     "execution_count": 23,
     "metadata": {},
     "output_type": "execute_result"
    }
   ],
   "source": [
    "# 标准差\n",
    "np.std(X)"
   ]
  },
  {
   "cell_type": "code",
   "execution_count": 24,
   "id": "8a194711",
   "metadata": {},
   "outputs": [
    {
     "data": {
      "text/plain": [
       "-0.0005189342341390211"
      ]
     },
     "execution_count": 24,
     "metadata": {},
     "output_type": "execute_result"
    }
   ],
   "source": [
    "x = np.random.normal(0, 1, size=1000000)  # 用正态分布来测试标准差\n",
    "np.mean(x)"
   ]
  },
  {
   "cell_type": "code",
   "execution_count": 25,
   "id": "1cdea6f1",
   "metadata": {},
   "outputs": [
    {
     "data": {
      "text/plain": [
       "0.9993095408459391"
      ]
     },
     "execution_count": 25,
     "metadata": {},
     "output_type": "execute_result"
    }
   ],
   "source": [
    "np.std(x)"
   ]
  }
 ],
 "metadata": {
  "kernelspec": {
   "display_name": "Python 3 (ipykernel)",
   "language": "python",
   "name": "python3"
  },
  "language_info": {
   "codemirror_mode": {
    "name": "ipython",
    "version": 3
   },
   "file_extension": ".py",
   "mimetype": "text/x-python",
   "name": "python",
   "nbconvert_exporter": "python",
   "pygments_lexer": "ipython3",
   "version": "3.9.13"
  }
 },
 "nbformat": 4,
 "nbformat_minor": 5
}
