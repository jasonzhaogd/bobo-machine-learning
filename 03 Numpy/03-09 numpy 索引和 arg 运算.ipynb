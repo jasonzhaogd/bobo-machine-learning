{
 "cells": [
  {
   "cell_type": "code",
   "execution_count": 1,
   "id": "b5198ed5",
   "metadata": {},
   "outputs": [],
   "source": [
    "import numpy as np"
   ]
  },
  {
   "cell_type": "code",
   "execution_count": 2,
   "id": "1bf096ac",
   "metadata": {},
   "outputs": [
    {
     "data": {
      "text/plain": [
       "array([-1.25024624, -2.27465701, -0.73989852, ..., -1.46565797,\n",
       "       -0.10539828,  0.46875123])"
      ]
     },
     "execution_count": 2,
     "metadata": {},
     "output_type": "execute_result"
    }
   ],
   "source": [
    "x = np.random.normal(0, 1, size=1000000)\n",
    "x"
   ]
  },
  {
   "cell_type": "markdown",
   "id": "6ba86694",
   "metadata": {},
   "source": [
    "## arg 运算"
   ]
  },
  {
   "cell_type": "code",
   "execution_count": 3,
   "id": "f151caef",
   "metadata": {},
   "outputs": [
    {
     "data": {
      "text/plain": [
       "-4.702369793986918"
      ]
     },
     "execution_count": 3,
     "metadata": {},
     "output_type": "execute_result"
    }
   ],
   "source": [
    "np.min(x)"
   ]
  },
  {
   "cell_type": "code",
   "execution_count": 4,
   "id": "d7b5f9b7",
   "metadata": {},
   "outputs": [
    {
     "data": {
      "text/plain": [
       "46579"
      ]
     },
     "execution_count": 4,
     "metadata": {},
     "output_type": "execute_result"
    }
   ],
   "source": [
    "# 最小值所在索引\n",
    "n = np.argmin(x)\n",
    "n"
   ]
  },
  {
   "cell_type": "code",
   "execution_count": 5,
   "id": "2a383764",
   "metadata": {},
   "outputs": [
    {
     "data": {
      "text/plain": [
       "-4.702369793986918"
      ]
     },
     "execution_count": 5,
     "metadata": {},
     "output_type": "execute_result"
    }
   ],
   "source": [
    "x[n]"
   ]
  },
  {
   "cell_type": "code",
   "execution_count": 6,
   "id": "1ae8179d",
   "metadata": {},
   "outputs": [
    {
     "data": {
      "text/plain": [
       "677919"
      ]
     },
     "execution_count": 6,
     "metadata": {},
     "output_type": "execute_result"
    }
   ],
   "source": [
    "np.argmax(x)"
   ]
  },
  {
   "cell_type": "code",
   "execution_count": 7,
   "id": "338f6793",
   "metadata": {},
   "outputs": [
    {
     "data": {
      "text/plain": [
       "4.847750631372536"
      ]
     },
     "execution_count": 7,
     "metadata": {},
     "output_type": "execute_result"
    }
   ],
   "source": [
    "x[np.argmax(x)]"
   ]
  },
  {
   "cell_type": "code",
   "execution_count": 8,
   "id": "c23d39bc",
   "metadata": {},
   "outputs": [
    {
     "data": {
      "text/plain": [
       "4.847750631372536"
      ]
     },
     "execution_count": 8,
     "metadata": {},
     "output_type": "execute_result"
    }
   ],
   "source": [
    "np.max(x)"
   ]
  },
  {
   "cell_type": "markdown",
   "id": "96231f6c",
   "metadata": {},
   "source": [
    "## 排序和使用索引"
   ]
  },
  {
   "cell_type": "code",
   "execution_count": 9,
   "id": "c78ef5d9",
   "metadata": {},
   "outputs": [
    {
     "data": {
      "text/plain": [
       "array([ 0,  1,  2,  3,  4,  5,  6,  7,  8,  9, 10, 11, 12, 13, 14, 15])"
      ]
     },
     "execution_count": 9,
     "metadata": {},
     "output_type": "execute_result"
    }
   ],
   "source": [
    "x = np.arange(16)\n",
    "x"
   ]
  },
  {
   "cell_type": "code",
   "execution_count": 11,
   "id": "d5fb88b9",
   "metadata": {},
   "outputs": [
    {
     "data": {
      "text/plain": [
       "array([ 7,  5,  8, 15, 11, 14, 13,  1,  3,  4, 10,  6,  9, 12,  2,  0])"
      ]
     },
     "execution_count": 11,
     "metadata": {},
     "output_type": "execute_result"
    }
   ],
   "source": [
    "# 乱序处理\n",
    "np.random.shuffle(x)\n",
    "x"
   ]
  },
  {
   "cell_type": "code",
   "execution_count": 12,
   "id": "cb4d9fb3",
   "metadata": {},
   "outputs": [
    {
     "data": {
      "text/plain": [
       "array([ 0,  1,  2,  3,  4,  5,  6,  7,  8,  9, 10, 11, 12, 13, 14, 15])"
      ]
     },
     "execution_count": 12,
     "metadata": {},
     "output_type": "execute_result"
    }
   ],
   "source": [
    "# 排序，无副作用\n",
    "np.sort(x)"
   ]
  },
  {
   "cell_type": "code",
   "execution_count": 14,
   "id": "fd30b87f",
   "metadata": {},
   "outputs": [
    {
     "data": {
      "text/plain": [
       "array([ 0,  1,  2,  3,  4,  5,  6,  7,  8,  9, 10, 11, 12, 13, 14, 15])"
      ]
     },
     "execution_count": 14,
     "metadata": {},
     "output_type": "execute_result"
    }
   ],
   "source": [
    "# 原地排序\n",
    "x.sort()\n",
    "x"
   ]
  },
  {
   "cell_type": "code",
   "execution_count": 15,
   "id": "54599a54",
   "metadata": {},
   "outputs": [
    {
     "data": {
      "text/plain": [
       "array([[2, 5, 4, 3],\n",
       "       [4, 0, 5, 2],\n",
       "       [1, 3, 5, 8],\n",
       "       [9, 2, 3, 1]])"
      ]
     },
     "execution_count": 15,
     "metadata": {},
     "output_type": "execute_result"
    }
   ],
   "source": [
    "# 针对二维数组排序\n",
    "X = np.random.randint(10, size=(4, 4))\n",
    "X"
   ]
  },
  {
   "cell_type": "code",
   "execution_count": 17,
   "id": "d9cec787",
   "metadata": {},
   "outputs": [
    {
     "data": {
      "text/plain": [
       "array([[1, 0, 3, 1],\n",
       "       [2, 2, 4, 2],\n",
       "       [4, 3, 5, 3],\n",
       "       [9, 5, 5, 8]])"
      ]
     },
     "execution_count": 17,
     "metadata": {},
     "output_type": "execute_result"
    }
   ],
   "source": [
    "np.sort(X, axis=0) # 沿着行的方向排序"
   ]
  },
  {
   "cell_type": "code",
   "execution_count": 18,
   "id": "a065de78",
   "metadata": {},
   "outputs": [
    {
     "data": {
      "text/plain": [
       "array([[2, 3, 4, 5],\n",
       "       [0, 2, 4, 5],\n",
       "       [1, 3, 5, 8],\n",
       "       [1, 2, 3, 9]])"
      ]
     },
     "execution_count": 18,
     "metadata": {},
     "output_type": "execute_result"
    }
   ],
   "source": [
    " np.sort(X, axis=1) # 沿着列的方向排序"
   ]
  },
  {
   "cell_type": "code",
   "execution_count": 19,
   "id": "e1b46593",
   "metadata": {},
   "outputs": [
    {
     "data": {
      "text/plain": [
       "array([ 7,  8,  6,  1, 15,  4, 10, 11,  0, 14,  9,  3,  2, 13,  5, 12])"
      ]
     },
     "execution_count": 19,
     "metadata": {},
     "output_type": "execute_result"
    }
   ],
   "source": [
    "# 排序 arg 运算\n",
    "np.random.shuffle(x)\n",
    "x"
   ]
  },
  {
   "cell_type": "code",
   "execution_count": 20,
   "id": "4ce41180",
   "metadata": {},
   "outputs": [
    {
     "data": {
      "text/plain": [
       "array([ 8,  3, 12, 11,  5, 14,  2,  0,  1, 10,  6,  7, 15, 13,  9,  4])"
      ]
     },
     "execution_count": 20,
     "metadata": {},
     "output_type": "execute_result"
    }
   ],
   "source": [
    "np.argsort(x) # 把 x 排序后各元素在原数组的索引位置"
   ]
  }
 ],
 "metadata": {
  "kernelspec": {
   "display_name": "Python 3 (ipykernel)",
   "language": "python",
   "name": "python3"
  },
  "language_info": {
   "codemirror_mode": {
    "name": "ipython",
    "version": 3
   },
   "file_extension": ".py",
   "mimetype": "text/x-python",
   "name": "python",
   "nbconvert_exporter": "python",
   "pygments_lexer": "ipython3",
   "version": "3.9.13"
  }
 },
 "nbformat": 4,
 "nbformat_minor": 5
}
